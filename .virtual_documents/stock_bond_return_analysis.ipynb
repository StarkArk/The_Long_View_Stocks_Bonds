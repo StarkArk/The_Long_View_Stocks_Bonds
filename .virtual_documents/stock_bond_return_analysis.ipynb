





# import libraries
import pandas as pd
import numpy as np
import seaborn as sns
import matplotlib.pyplot as plt
import csv
from tabulate import tabulate
from pathlib import Path
import scipy.stats as st
from matplotlib.lines import Line2D
import dataframe_image as dfi
import matplotlib.patches as mpatches


# Display and Warnings
from IPython.display import display, HTML
display(HTML("<style>.container {width:90% !important;}</style>"))
import warnings
warnings.filterwarnings('ignore')





# Initial cleaning/wrangling performed in excel
# open csv file with prepped mcquarrie data
stock_bond_data = pd.read_csv('Data/mcquarrie_real_stock_bond_returns_prepped_csv.csv')

# see the columns and rows as necessary
pd.set_option('display.max_columns', None)
pd.set_option('display.max_rows', 25)

stock_bond_data.tail(5)


# summary statistics
stock_bond_data.describe()


# how many nulls?
stock_bond_data.isnull().sum()


# Rename col'To January of:' to 'year'
stock_bond_data.rename(columns = {'To January of:':'year'}, inplace = True)
stock_bond_data.head(1)


# List out the columns 
stock_bond_data.columns


# Form the dataframes to be used in the analysis 
# Create a new dataframe
stock_bond_returns = stock_bond_data.copy()

# Drop unnecessary columns
stock_bond_returns = stock_bond_returns.drop(columns=['Measuring Worth  inflation index (annual)','MW 2 yr smoothed','CPI-U January values fr 1913'])

# Stock Returns Only
stock_returns = stock_bond_returns[['year', 'annual_inflation_relative',
       'nominal_stock_return', 'real_stock_return', 'real_stock_index',
       'rolling_ten_stocks', 'rolling_thirty_stocks','rolling_fifty_stocks', 'rolling_hundred_stocks']]

# Bond Returns Only
bond_returns = stock_bond_returns[['year', 'annual_inflation_relative',
       'nominal_bond_return', 'real_bond_return', 'real_bond_index',
       'rolling_ten_bonds', 'rolling_thirty_bonds', 'rolling_fifty_bonds', 'rolling_hundred_bonds']]









plt.figure(figsize=(15,8))

sns.lineplot(data=stock_returns, x='year', y='real_stock_index')
plt.title("Stock Growth (log scale)")
plt.ylabel('real stock index')
plt.yscale('log')


# Use the geometric returns make a database of just rolling stock returns
rolling_stock_returns=stock_returns[['rolling_ten_stocks', 'rolling_thirty_stocks','rolling_fifty_stocks', 'rolling_hundred_stocks']]

# boxplots of rolling returns
plt.figure(figsize=(10,5))

# all columns as a boxplot on the same figure
ax = sns.boxplot(x='variable', y='value', data=pd.melt(rolling_stock_returns))
ax.set(xlabel='Rolling Period (years)', ylabel='Annualized Returns', title='Annualized Stock Returns for Rolling Periods 1793-2023')

# change y-axis ticks from floating to percentage
y_value=['{:,.0f}'.format(100*x) + '%' for x in ax.get_yticks()]
ax.set_yticklabels(y_value)

# change x-axis labels
x_value=['10', '30', '50', '100']
ax.set_xticklabels(x_value)

plt.show()


# populate a dataframe with the minimum return one can expect from a given roll period (in years)
# create an empty dictionary object to store the roll period and minimum annualized return
cagr_roll_dict = {"period":[], "min_cagr":[]}

# Keep track of # of years to guarantee a minimum return
guarantee_0 = False
guarantee_2 = False

# i is the period or number of years in the roll period
for i in range(1,43):
    n = i
    cagr = []
    for x in range(i, 231):
            f = stock_returns.real_stock_index[x+1-n]
            l = stock_returns.real_stock_index[x+1]
            # cagr with term i in years
            cagr_x = (l/f)**(1/n)-1
            # create a list of cagr's for the nth roll period
            cagr.append(cagr_x)
    cagr_min = min(cagr)
    cagr_roll_dict["period"].append(n)
    cagr_roll_dict["min_cagr"].append(cagr_min)
    if cagr_min >= .02 and guarantee_2 == False:
        stock_percent_2 = i
        guarantee_2 = True
    if cagr_min < .02 and guarantee_2 == True:
        guarantee_2 = False
    if cagr_min >= 0 and guarantee_0 == False:
        stock_percent_0 = i
        guarantee_0 = True
    if cagr_min < 0 and guarantee_0 == True:
        guarantee_0 = False

# Convert the dictionary of roll periods and returns to a dataframe    
stock_cagr_roll = pd.DataFrame.from_dict(cagr_roll_dict)

print(f"Minimum number of years to guarantee a non_negative return: {stock_percent_0}")
print(f"Minimum number of years to guarantee a 2% or better return: {stock_percent_2}")


# plot the roll return dataframe (cagr_roll)
plt.figure(figsize=(10,6))

# plot minimum returns for different roll periods
ax = sns.pointplot(data=stock_cagr_roll, x='period', y='min_cagr', color='forestgreen', scale=.25)
ax.set(xlabel='Rolling Periods in Years', ylabel='Minimum Annualized Return (dashed lines 0%/2%)', title='Stocks - Minimum Return for Historic Rolling Periods')

# change y-axis ticks to percent
y_value=['{:,.0f}'.format(100*x) + '%' for x in ax.get_yticks()]
ax.set_yticklabels(y_value)
ax.set_xticks([9,19,29,39])


# plot a dashed line level at zero
plt.plot([0, 41], [0, 0], linestyle='--', linewidth=.5, alpha=.75)
# plot another dashed line at 2
plt.plot([0, 41], [.02, .02], linestyle='--', linewidth=.5, color='firebrick', label='2%', alpha=.75)


plt.show()





plt.figure(figsize=(15,8))

sns.lineplot(data=bond_returns, x='year', y='real_bond_index')
plt.title("Bond Growth (log scale)")
plt.ylabel('real bond index')
plt.yscale('log')





# create dataframe that just includes the roll returns for bonds
rolling_bond_returns = bond_returns[['rolling_ten_bonds', 'rolling_thirty_bonds', 'rolling_fifty_bonds', 'rolling_hundred_bonds']]

# summary statistics
# rolling_bond_returns.describe()


# boxplots of rolling returns
plt.figure(figsize=(10,5))

# all columns as a boxplot on the same figure, pd.melt is important for this
ax = sns.boxplot(x='variable', y='value', data=pd.melt(rolling_bond_returns))
ax.set(xlabel='Rolling Period (years)', ylabel='Annualized Returns', title='Annualized Bond Returns for Rolling Periods 1793-2023')
# change y-axis ticks from floating to percentage
y_value=['{:,.0f}'.format(100*x) + '%' for x in ax.get_yticks()]
ax.set_yticklabels(y_value)
# change x-axis labels
x_value=['10', '30', '50', '100']
ax.set_xticklabels(x_value)


plt.show()


# populate a dataframe with the minimum return one can expect from a given roll period (in years)
# create an empty dictionary object to store the roll period and minimum annualized return
cagr_roll_dict = {"period":[], "min_cagr":[]}

# Keep track of # of years to guarantee a minimum return
guarantee_0 = False
guarantee_2 = False

# i is the period or number of years in the roll period
for i in range(1,231):
    n = i
    cagr = []
    for x in range(i, 231):
            f = bond_returns.real_bond_index[x+1-n]
            l = bond_returns.real_bond_index[x+1]
            # cagr with term i in years
            cagr_x = (l/f)**(1/n)-1
            # create a list of cagr's for the nth roll period
            cagr.append(cagr_x)
    #calculate the minimum annualized return
    cagr_min = min(cagr)
    cagr_roll_dict["period"].append(n)
    cagr_roll_dict["min_cagr"].append(cagr_min)
    if cagr_min >= .02 and guarantee_2 == False:
        stock_percent_2 = i
        guarantee_2 = True
    if cagr_min < .02 and guarantee_2 == True:
        guarantee_2 = False
    if cagr_min >= 0 and guarantee_0 == False:
        stock_percent_0 = i
        guarantee_0 = True
    if cagr_min < 0 and guarantee_0 == True:
        guarantee_0 = False

# Convert the dictionary of roll periods and returns to a dataframe    
bond_cagr_roll = pd.DataFrame.from_dict(cagr_roll_dict)

print(f"Minimum number of years to guarantee a non_negative return: {stock_percent_0}")
print(f"Minimum number of years to guarantee a 2% or better return: {stock_percent_2}")


# plot the roll return dataframe (cagr_roll)
plt.figure(figsize=(10,6))
# plot minimum returns for different roll periods
ax = sns.pointplot(data=bond_cagr_roll, x='period', y='min_cagr', color='#1E88E5', scale=.25)
ax.set(xlabel='Rolling Periods in Years', ylabel='Minimum Annualized Return (dashed lines 0%/2%)', title='Bonds - Minimum Return for Historic Rolling Periods')
# change y-axis ticks to percent
y_value=['{:,.0f}'.format(100*x) + '%' for x in ax.get_yticks()]
ax.set_yticklabels(y_value)
ax.set_xticks([0,9,49,99,149,199,229])

# plot a dashed line level at zero
plt.plot([0, 227], [0, 0], linestyle='--', linewidth=.75)
# plot another dashed line at 2
plt.plot([0, 227], [.02, .02], linestyle='--', linewidth=.75, color='firebrick')


plt.show()





stock_bond_data.columns





# Make a Summary Table

# Mean Return
stocks_avg_annual = round(stock_bond_data['real_stock_return'].mean() * 100, 1)
bonds_avg_annual = round(stock_bond_data['real_bond_return'].mean() * 100, 1)

# GeoMean
stocks_annualized = stock_bond_data['real_stock_return'] + 1
stocks_annualized = stocks_annualized.dropna()
stocks_annualized = round((st.gmean(stocks_annualized)-1) * 100, 1)
bonds_annualized = stock_bond_data['real_bond_return'] + 1
bonds_annualized = bonds_annualized.dropna()
bonds_annualized = round((st.gmean(bonds_annualized)-1) * 100, 1)

# Standard Deviation
stock_std = round(stock_bond_data['real_stock_return'].std() * 100, 1)
bond_std = round(stock_bond_data['real_bond_return'].std() * 100, 1)

# Build the Summary Table
sum_stat_dict = {"Security": ["Stocks", "Bonds"],
                "Average(%)": [stocks_avg_annual, bonds_avg_annual], 
                "Annualized(%)": [stocks_annualized, bonds_annualized],
                "Standard Deviation": [stock_std, bond_std]}
sum_stat_df = pd.DataFrame(sum_stat_dict)

# Remove index from dataframe view and export to image
blankindex=[''] * len(sum_stat_df)
sum_stat_df.index = blankindex
dfi.export(sum_stat_df,"Images/summary_returns_table.png")

display(sum_stat_df)





# Plot Stock vs Bond History 1792-2023
plt.figure(figsize=(15,8))

sns.lineplot(data=stock_returns, x='year', y='real_stock_index', color="#004D40")
sns.lineplot(data=bond_returns, x='year', y='real_bond_index', color="#1E88E5")

plt.title("Real Growth (log scale)", fontsize=15)
plt.ylabel('real index', fontsize=12)
plt.xlabel('year', fontsize=12)
plt.yscale('log')

legend_elements = [Line2D([0], [0], color='#004D40', lw=4, label='Stocks'),
                   Line2D([0], [0], color='#1E88E5', lw=4, label='Bonds')]

plt.legend(handles=legend_elements, fontsize=13, loc="lower right")
plt.savefig("Images/stock_bond_real_comparison_history.png")

plt.show()


# extend out roll periods for stock returns, note: previously set to 42 periods for stocks
cagr_roll_dict = {"period":[], "min_cagr":[]}

# i is the period or number of years in the roll period
for i in range(1,231):
    n = i
    cagr = []
    for x in range(i, 231):
            f = stock_returns.real_stock_index[x+1-n]
            l = stock_returns.real_stock_index[x+1]
            # cagr with term i in years
            cagr_x = (l/f)**(1/n)-1
            # create a list of cagr's for the nth roll period
            cagr.append(cagr_x)
    cagr_min = min(cagr)
    cagr_roll_dict["period"].append(n)
    cagr_roll_dict["min_cagr"].append(cagr_min)

# Convert the dictionary of roll periods and returns to a dataframe    
stock_cagr_roll_all = pd.DataFrame.from_dict(cagr_roll_dict)

# stock_cagr_roll_all.head()


# create lists for new column 'security_type'
bond_cagr_roll_all = bond_cagr_roll
list_bonds=[]
list_stocks=[]
for i in range(len(bond_cagr_roll)):
    list_bonds.append("bond")
    list_stocks.append("stock")

# run to check list contents/length   
# print(list_bonds,list_stocks)
# print(len(list_bonds), len(list_stocks))


# run once to populate dataframes
bond_cagr_roll_all.insert(loc=0, column="security_type", value=list_bonds)
stock_cagr_roll_all.insert(loc=0, column="security_type", value=list_stocks)


# Combine stock and bond cagr_roll_all dataframes with a Union type join
combined_cagr_roll = pd.concat([bond_cagr_roll_all, stock_cagr_roll_all])





# Finally, we are ready to plot stock and bond cagrs
plt.figure(figsize=(15,9))

ax = sns.pointplot(data=combined_cagr_roll, x='period', y='min_cagr', hue='security_type', scale=.30, 
                   palette=["#1E88E5", "#004D40"])
#ax.set(xlabel='Rolling Periods (Years)', ylabel='Minimum Annualized Return (dashed lines 0%/2%)', title='Minimum Return for Rolling Periods')
ax.set_xlabel('Rolling Periods (Years)', fontsize=13)
ax.set_ylabel('Minimum Annualized Return (dashed lines 0%/2%)', fontsize=13)
ax.set_title('Stocks vs Bonds - Minimum Returns', fontsize=15)
# convert y-axis ticks to percent
y_value=['{:,.0f}'.format(100*x) + '%' for x in ax.get_yticks()]
ax.set_yticklabels(y_value)
#set x values
ax.set_xticks([0,6,11,49,99,149,199,229])
plt.legend(loc='center', fontsize=14, markerscale=3)

# plot a dashed line level at zero
plt.plot([1, 227], [0, 0], linestyle='--', linewidth=1, color='tab:orange', alpha=.75)
# plot another dashed line at 2
plt.plot([1, 227], [.02, .02], linestyle='--', linewidth=1, color='firebrick', alpha=.75)
# plot horizontal lines
plt.plot([11, 11], [-.28, .05], linestyle='-', linewidth=.25, color='gray', alpha=.5)
plt.plot([6, 6], [-.28, .05], linestyle='-', linewidth=.25, color='gray', alpha=.5)

plt.savefig("Images/stock_bond_min_returns_comparison.png")

plt.show()





# Populate a list for security type column to match rolling return dataframes
list_bonds_232 = []
list_stocks_232 = []
year = []
for i in range(232):
    list_bonds_232.append('bond')
    list_stocks_232.append('stock')
    year.append(i+1792)
    
# Check to see that the stock/bond lists are of the same length as the dataframes
#print(len(list_bonds_232))
#print(len(list_stocks_232))
#print(len(year))


# add security type column
rolling_bond_returns.insert(loc=0, column="security_type", value=list_bonds_232)
rolling_stock_returns.insert(loc=0, column="security_type", value=list_stocks_232)

# add year column
rolling_bond_returns.insert(loc=0, column='year', value=year)
rolling_stock_returns.insert(loc=0, column='year', value=year)

#print(rolling_bond_returns.head(2))
#print(rolling_stock_returns.head(2))


# rename the columns so that the stock and bond dataframes have consistent naming
rolling_bond_returns.rename(columns={'rolling_ten_bonds':'rolling_ten','rolling_thirty_bonds':'rolling_thirty','rolling_fifty_bonds':'rolling_fifty',
                                     'rolling_hundred_bonds':'rolling_hundred'}, inplace = True, errors='raise')
rolling_stock_returns.rename(columns={'rolling_ten_stocks':'rolling_ten','rolling_thirty_stocks':'rolling_thirty','rolling_fifty_stocks':'rolling_fifty',
                                      'rolling_hundred_stocks':'rolling_hundred'}, inplace = True, errors='raise')

print(rolling_bond_returns.columns.values)
print(rolling_stock_returns.columns.values)


# Combine fixed rolling term stock/bond dataframes with a 'Union' style join
combined_fixed_roll = pd.concat([rolling_bond_returns, rolling_stock_returns])


combined_fixed_roll.info()








# Plot 10yr Rolling Returns
plt.figure(figsize=(15,9))

ax = sns.pointplot(data=combined_fixed_roll, x='year', y='rolling_ten', hue='security_type', 
                   scale=.30, palette='bright')
ax.set_xlabel('Year', fontsize=14)
ax.set_ylabel('Annualized Real Return', fontsize=14)
ax.set_title('10 year Rolling Real Returns', fontsize=15)

y_value=['{:,.0f}'.format(100*x) + '%' for x in ax.get_yticks()]
ax.set_yticklabels(y_value)
ax.set_xticks([0,50,100,150,200,231])
# format legend
plt.legend(loc='upper right', fontsize=14, markerscale=3)
# save image
plt.savefig("Images/rolling_real_10yr")

plt.show()





# Plot 30yr Rolling Returns
plt.figure(figsize=(15,9))

ax = sns.pointplot(data=combined_fixed_roll, x='year', y='rolling_thirty', hue='security_type', 
                   scale=.30, palette='bright')
ax.set_xlabel('Year', fontsize=14)
ax.set_ylabel('Annualized Real Return', fontsize=14)
ax.set_title('30 year Rolling Real Returns', fontsize=15)
y_value=['{:,.0f}'.format(100*x) + '%' for x in ax.get_yticks()]
ax.set_yticklabels(y_value)
ax.set_xticks([0,50,100,150,200,231])
# format legend
plt.legend(loc='upper right', fontsize=14, markerscale=3)
# save image
plt.savefig("Images/rolling_real_30yr")

plt.show()





# Plot 50yr real rolling returns
plt.figure(figsize=(15,9))

ax = sns.pointplot(data=combined_fixed_roll, x='year', y='rolling_fifty', hue='security_type', 
                   scale=.30, palette='bright')
ax.set_xlabel('Year', fontsize=14)
ax.set_ylabel('Annualized Real Return', fontsize=14)
ax.set_title('50 year Rolling Real Returns', fontsize=15)
y_value=['{:,.0f}'.format(100*x) + '%' for x in ax.get_yticks()]
ax.set_yticklabels(y_value)
ax.set_xticks([0,50,100,150,200,231])
# format legend
plt.legend(loc='upper right', fontsize=14, markerscale=3)
# save image
plt.savefig("Images/rolling_real_50yr")

plt.show()





# Plot 100yr rolling real returns
plt.figure(figsize=(15,9))

ax = sns.pointplot(data=combined_fixed_roll, x='year', y='rolling_hundred', hue='security_type', 
                   scale=.30, palette='bright')
ax.set_xlabel('Year', fontsize=14)
ax.set_ylabel('Annualized Real Return', fontsize=14)
ax.set_title('100 year Rolling Real Returns', fontsize=15)
y_value=['{:,.0f}'.format(100*x) + '%' for x in ax.get_yticks()]
ax.set_yticklabels(y_value)
ax.set_xticks([0,50,100,150,200,231])
# format legend
plt.legend(loc='upper right', fontsize=14, markerscale=3)
# save image
plt.savefig("Images/rolling_real_100yr")

plt.show()





# shorten the name of the dataframe to make it easier to use/read
rbr=rolling_bond_returns
rsr=rolling_stock_returns
# Iterable list of columns
roll_list=['rolling_ten','rolling_thirty','rolling_fifty','rolling_hundred']





# Find the years where stock and bonds were at their min value for each rolling series
b_min_years = pd.DataFrame()
s_min_years = pd.DataFrame()
b_min_years = pd.DataFrame()
s_min_years = pd.DataFrame()

# table of lowest rolling returns
for i in roll_list:
    b_min_rows = rbr[rbr[i]==rbr[i].min()]
    b_min_years = pd.concat([b_min_years, b_min_rows])
    s_min_rows = rsr[rsr[i]==rsr[i].min()]
    s_min_years = pd.concat([s_min_years, s_min_rows])
    
min_years = pd.concat([b_min_years,s_min_years])
#min_years


# Dictionary to convert into dataframe table of minimum return years
min_rate_dict = {'Type':[], 'Period':[10,30,50,100,10,30,50,100],
                 'Min Annualized':['-5.41%','-2.13%','-0.64%','1.51%','-3.74%','2.00%','3.80%','4.96%'], 'Years':[]}

for i in range(8):
    min_rate_dict['Type'].append(min_years['security_type'].values[i])
    min_rate_dict['Years'].append(min_years['year'].values[i])

# create a list the reflects a range of years for the rolling periods   
min_yr_list = min_rate_dict['Years']
min_period_list = min_rate_dict['Period']
min_yr_range = []
for i in range(8):
    min_yr_range.append(str(min_yr_list[i]-min_period_list[i]) + "-" + str(min_yr_list[i]) )

# replace years values with the max_yr_range4    
min_rate_dict.update({'Years': min_yr_range})     
    
# load into dataframe/table    
min_rate_year = pd.DataFrame.from_dict(min_rate_dict)
min_rate_year





# Create a table image for min return by period
blankindex=['']* len(min_rate_year)
min_rate_year.index = blankindex
display(min_rate_year)
dfi.export(min_rate_year,"Images/min_rate_year_table.png")





# Find the years where stock and bonds were at their max value for eaxh rolling series
b_max_years = pd.DataFrame()
s_max_years = pd.DataFrame()
b_max_years = pd.DataFrame()
s_max_years = pd.DataFrame()

# table of highest rolling returns
for i in roll_list:
    b_max_rows = rbr[rbr[i]==rbr[i].max()]
    b_max_years = pd.concat([b_max_years, b_max_rows])
    s_max_rows = rsr[rsr[i]==rsr[i].max()]
    s_max_years = pd.concat([s_max_years, s_max_rows])
    
max_years = pd.concat([b_max_years,s_max_years])
#max_years


# Dictionary to convert into dataframe table of maximum return years
max_rate_dict = {'Type':[], 'Period':[10,30,50,100,10,30,50,100],
                 'Max Annualized':['13.88%','8.79%','7.36%','6.63%','17.49%','10.43%','8.91%','7.51%'], 'Years':[]}

for i in range(8):
    max_rate_dict['Type'].append(max_years['security_type'].values[i])
    max_rate_dict['Years'].append(max_years['year'].values[i])

# create a list the reflects a range of years for the rolling periods   
max_yr_list = max_rate_dict['Years']
max_period_list = max_rate_dict['Period']
max_yr_range = []
for i in range(8):
    max_yr_range.append(str(max_yr_list[i]-max_period_list[i]) + "-" + str(max_yr_list[i]) )

# replace years values with the max_yr_range4    
max_rate_dict.update({'Years': max_yr_range})  
    
# load into dataframe/table    
max_rate_year = pd.DataFrame.from_dict(max_rate_dict)

max_rate_year





# Create a table image for max return by period
blankindex=[''] * len(max_rate_year)
max_rate_year.index = blankindex
display(max_rate_year)
dfi.export(max_rate_year,"Images/max_rate_year_table.png")





year_min_dict = {"year":[], "min_cagr":[], "term":[]}
year_max_dict = {"year":[], "max_cagr":[], "term":[]}

# i is the period or number of years in the roll period
for i in range(1,101):
    n = i
    cagr = []
    min_year = 0
    max_year = 0
    for x in range(i, 231):
            f = stock_returns.real_stock_index[x+1-n]
            l = stock_returns.real_stock_index[x+1]
            # cagr with roll term = n years
            cagr_x = (l/f)**(1/n)-1
            # create a list of cagr's for the roll term = n
            cagr.append(cagr_x)
            if cagr_x <= min(cagr):
                min_year = 1792+x+1
            if cagr_x >= max(cagr):
                max_year = 1792+x+1
    # min/max cagr for roll term = i in years
    cagr_min = min(cagr)
    cagr_max = max(cagr)
    # populate min/max dictionaries with the year and term
    year_min_dict["year"].append(min_year)
    year_min_dict["min_cagr"].append(cagr_min)
    year_min_dict['term'].append(i)
    year_max_dict["year"].append(max_year)
    year_max_dict["max_cagr"].append(cagr_max)
    year_max_dict['term'].append(i)
    
# Convert the dictionary of roll periods and returns to a dataframe    
year_min_cagr = pd.DataFrame.from_dict(year_min_dict)
year_max_cagr = pd.DataFrame.from_dict(year_max_dict)
#year_max_cagr.head(10)


#year_min_cagr['year'].describe()


# Stocks
year_min_cagr['year'].value_counts().head(10)


# Histogram of worst 1-100 yr stock periods
plt.figure(figsize=(4,2.8))
sns.histplot(year_min_cagr['year'], bins=50)
plt.title("Stocks - Worst 1-100yr Periods")

plt.savefig("Images/stocks_worst_1to100_periods")

plt.show()


# Stocks
year_max_cagr['year'].value_counts().head(5)


plt.figure(figsize=(4,2.8))
sns.histplot(year_max_cagr['year'], bins=50)
plt.title("Stocks - Best 1-100yr Periods")

plt.savefig("Images/stocks_best_1to100_periods")

plt.show()





# form a combined dataframe of min/max cagr years for 1-100 year terms
s_year_minmax_cagr_dict = {'min/max':[],'year':[]}

for i in range(200):
    if i < 100:
        s_year_minmax_cagr_dict['min/max'].append('min')
        s_year_minmax_cagr_dict['year'].append(year_min_cagr['year'][i])
    if i >= 100:
        s_year_minmax_cagr_dict['min/max'].append('max')
        s_year_minmax_cagr_dict['year'].append(year_max_cagr['year'][i-100])

s_year_minmax_cagr = pd.DataFrame.from_dict(s_year_minmax_cagr_dict)
#s_year_minmax_cagr.sample(10)
#s_year_minmax_cagr['min/max'].value_counts()


# Histogram comparing all the min and max cagr years for 1-100 year roll periods
plt.figure(figsize=(15,8))

sns.histplot(s_year_minmax_cagr, x='year', hue='min/max', bins=30, kde = True, stat='percent')

plt.title('Minimum and Maximum Return Years for all Rolling Periods, 1-100 years (US Stocks)')
plt.xlabel('Year')

plt.savefig("Images/stocks_best_worst_years_rolling_1to100")

plt.show()


b_year_min_dict = {"year":[], "min_cagr":[], "term":[]}
b_year_max_dict = {"year":[], "max_cagr":[], "term":[]}

# i is the period or number of years in the roll period
for i in range(1,101):
    n = i
    cagr = []
    min_year = 0
    max_year = 0
    for x in range(i, 231):
            f = bond_returns.real_bond_index[x+1-n]
            l = bond_returns.real_bond_index[x+1]
            # cagr with roll term = n years
            cagr_x = (l/f)**(1/n)-1
            # create a list of cagr's for the roll term = n
            cagr.append(cagr_x)
            if cagr_x <= min(cagr):
                min_year = 1792+x+1
            if cagr_x >= max(cagr):
                max_year = 1792+x+1
    # min/max cagr for roll term = i in years
    cagr_min = min(cagr)
    cagr_max = max(cagr)
    # populate min/max dictionaries with the year and term
    b_year_min_dict["year"].append(min_year)
    b_year_min_dict["min_cagr"].append(cagr_min)
    b_year_min_dict['term'].append(i)
    b_year_max_dict["year"].append(max_year)
    b_year_max_dict["max_cagr"].append(cagr_max)
    b_year_max_dict['term'].append(i)
    
# Convert the dictionary of roll periods and returns to a dataframe    
b_year_min_cagr = pd.DataFrame.from_dict(b_year_min_dict)
b_year_max_cagr = pd.DataFrame.from_dict(b_year_max_dict)
#b_year_max_cagr.head(10)


b_year_min_cagr['year'].value_counts()


plt.figure(figsize=(4,2.8))
sns.histplot(b_year_min_cagr['year'], bins=50)
plt.title("Bonds - Worst 1-100yr Periods")

plt.savefig("Images/bonds_worst_1to100_periods")

plt.show()


b_year_max_cagr['year'].value_counts().head()


plt.figure(figsize=(4,2.8))
sns.histplot(b_year_max_cagr['year'], bins=50)
plt.title("Bonds - Best 1-100yr Periods")

plt.savefig("Images/bonds_best_1to100_periods")

plt.show()





# form a combined bond dataframe of min/max cagr years for 1-100 year terms
b_year_minmax_cagr_dict = {'min/max':[],'year':[]}

for i in range(200):
    if i < 100:
        b_year_minmax_cagr_dict['min/max'].append('min')
        b_year_minmax_cagr_dict['year'].append(b_year_min_cagr['year'][i])
    if i >= 100:
        b_year_minmax_cagr_dict['min/max'].append('max')
        b_year_minmax_cagr_dict['year'].append(b_year_max_cagr['year'][i-100])

b_year_minmax_cagr = pd.DataFrame.from_dict(b_year_minmax_cagr_dict)
#s_year_minmax_cagr.sample(10)
#s_year_minmax_cagr['min/max'].value_counts()


# Histogram comparing all the min and max cagr years for 1-100 year roll periods (Bonds)
plt.figure(figsize=(15,8))

sns.histplot(b_year_minmax_cagr, x='year', hue='min/max', bins=30, kde = True, stat='percent')

plt.title('Minimum and Maximum Return Years for all Rolling Periods, 1-100 years (US Bonds)', 
          fontsize=15)
plt.xlabel('Year', fontsize=13)
plt.ylabel('Percent of All Rolling Periods', fontsize=13)
plt.xticks(fontsize=13)

plt.savefig("Images/bonds_best_worst_years_rolling_1to100_perc")

plt.show()





# Find all the terms that end in 1982 for minimum bond return periods
#b_year_min_cagr.sample(10)
b_min_1982 = b_year_min_cagr
b_min_term_1982 = b_min_1982[b_min_1982['year'] == 1982]

plt.figure(figsize=(8,1))
ax = sns.histplot(b_min_term_1982['term'], bins=100)
ax.set(yticks=[1,1.5], yticklabels=[], ylabel="", 
       title ="All Rolling Periods Ending in 1982 Where Bonds Had Their Worst Historical Returns",
       xlabel= "Term(years) ending 1982"
      )
ax.set_title

plt.savefig("Images/bonds_1982_worst_rolling_terms")

plt.show()


# Find the average annual bond return
avg_b_return = stock_bond_data['real_bond_return'].mean()
avg_b_return





# Plot annual bond return
plt.figure(figsize=(15,8))

# Plot annual returns
ax=sns.pointplot(data=stock_bond_data, x='year', y='real_bond_return', scale=.5)
ax.set_xticks([10,20,30,40,50,60,70,80,90,100,110,120,130,140,150,160,170,180,190,200,210,220,230,235])
y_value=['{:,.0f}'.format(100*x) + '%' for x in ax.get_yticks()]
ax.set_yticklabels(y_value)
ax.set_title("Bonds - Real Annual Returns", fontsize=15)
ax.set_xlabel("Year", fontsize=13)
ax.set_ylabel("Real Return", fontsize=13)

# Plot the avg return
plt.plot([0, 231], [avg_b_return, avg_b_return], linestyle='--', linewidth=2, alpha=.75,
        color="tab:orange")

orange_patch = mpatches.Patch(color='tab:orange', linestyle='dashed',
                           label=f'{round(100 * avg_b_return,1)}% avg return')
ax.legend(handles=[orange_patch])

plt.savefig("Images/bonds_annual_real_return")

plt.show()








# Lets smooth this out a bit by using 'i' year annualized rolling returns. Change the i variable to adjust the period for the graph.
b_period_cagr_dict = {"year":[], "bond_cagr":[]}

# i is the period or number of years in the roll period
i = 5
n = i
cagr = []
for x in range(i, 231):
        f = bond_returns.real_bond_index[x+1-n]
        l = bond_returns.real_bond_index[x+1]
        # cagr with roll term = n years
        cagr_x = (l/f)**(1/n)-1
        # populate dictionaries with the year and cagr for the roll term = n
        b_period_cagr_dict["bond_cagr"].append(cagr_x)
        b_period_cagr_dict["year"].append(1792+x+1)
    
# Convert the dictionary of roll periods and returns to a dataframe    
b_period_cagr = pd.DataFrame.from_dict(b_period_cagr_dict)

#b_period_cagr.tail(10)
#stock_bond_data['year']
plt.figure(figsize=(15,8))

# Plot i year rolling returns
ax=sns.pointplot(data=b_period_cagr, x='year', y='bond_cagr', scale=.5)
ax.set_xticks([10,20,30,40,50,60,70,80,90,100,110,120,130,140,150,160,170,180,190,200,210,220,230,235])
y_value=['{:,.0f}'.format(100*x) + '%' for x in ax.get_yticks()]
ax.set_yticklabels(y_value)

plt.title("Bonds - Real Annualized Returns for " + str(i) + ' Year Periods', fontsize=14)
plt.xlabel("Year", fontsize=13)
plt.ylabel("Return", fontsize=13)

# Plot the avg return
plt.plot([0, 231], [avg_b_return, avg_b_return], linestyle='--', linewidth=2, alpha=.75,
        color="tab:orange")
# format legend
red_patch = mpatches.Patch(color='tab:orange', linestyle='dashed',
                           label=f'{round(100 * avg_b_return,1)}% avg annual return')
ax.legend(handles=[red_patch])

plt.savefig("Images/bonds_annualized_returns_ith_year_periods")

plt.show()






# Use subplots to show boxplots of rolling returns
col_list = ['rolling_ten','rolling_thirty','rolling_fifty','rolling_hundred']

sns.set()

fig, axes = plt.subplots(2,2)
fig.set_size_inches(8,6)
fig.subplots_adjust(wspace=.5, hspace=.5)

# iterate thru the plots
i = 0
for k in range(2):
    for j in range(2):
        sns.boxplot(data=combined_fixed_roll, y=col_list[i], x='security_type', ax=axes[k,j])        
        y_value=['{:,.0f}'.format(100*x) + '%' for x in ax.get_yticks()]
        ax.set_yticklabels(y_value)
        i+=1

plt.savefig("Images/rolling_return_boxplots_10_30_50_100")

plt.show()



