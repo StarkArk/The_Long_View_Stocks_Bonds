


# !pip install FuzzyTM
# !pip install gensim
# !pip install skimpy
# !pip install scipy
# !pip install summarytools
# !pip install dataframe_image


# import libraries
import pandas as pd
import numpy as np
import seaborn as sns
import matplotlib.pyplot as plt
import csv
from tabulate import tabulate
from pathlib import Path
import scipy.stats as st
from matplotlib.lines import Line2D
import dataframe_image as dfi
import matplotlib.patches as mpatches
from summarytools import dfSummary
from skimpy import skim


# Display and Warnings
from IPython.display import display, HTML
display(HTML("<style>.container {width:90% !important;}</style>"))
import warnings
warnings.filterwarnings('ignore')


# Initial cleaning/wrangling performed in excel
# open csv file with prepped mcquarrie data
stock_bond_data = pd.read_csv('Data/mcquarrie_real_stock_bond_returns_prepped_csv.csv')

# see the columns and rows as necessary
pd.set_option('display.max_columns', None)
pd.set_option('display.max_rows', 25)

stock_bond_data.tail(5)


# Create dataframe with just the nominal return data
nominal_df = stock_bond_data[['To January of:', 'annual_inflation_relative', 'nominal_stock_return',
       'nominal_bond_return']]
nominal_df.columns = ['year_to_jan', 'inflation', 'nominal_stock_return',
       'nominal_bond_return']

nominal_df.tail(2)


# Convert float columns to percent
nominal_df['inflation_perc'] = (nominal_df['inflation'] - 1) * 100
nominal_df['nom_stock_perc'] = nominal_df['nominal_stock_return'] * 100
nominal_df['nom_bond_perc'] = nominal_df['nominal_bond_return'] * 100

nominal_df.sample(3)








# Histogram for Inflation
iplot = sns.histplot(data=nominal_df, x="inflation_perc", bins=60)
iplot.set(xlabel = "Inflation (%)", title = "Annual Inflation", ylabel = "Frequency/Count") 

i_median = nominal_df['inflation_perc'].median() 
i_mean = nominal_df['inflation_perc'].mean() 

# Plot Median
plt.axvline(i_median, color='orange', linestyle='dashed', linewidth=1, label="median (" + str(round(i_median, 1)) + "%)")
plt.axvline(i_mean, color='purple', linewidth=1, label="mean (" + str(round(i_mean, 1)) + "%)")
plt.legend(loc="upper right", fontsize=8)





# Create a Histogram for Stocks Returns
# Histogram for Stock Returns
splot = sns.histplot(data=nominal_df, x="nom_stock_perc", bins=60)
splot.set(xlabel = "Annual Return (%)", title = "Nominal Stock Returns", ylabel = "Frequency/Count") 

s_median = nominal_df['nom_stock_perc'].median() 
s_mean= nominal_df['nom_stock_perc'].mean() 

# Plot Mean/Median
plt.axvline(s_median, color='orange', linestyle='dashed', linewidth=1, label="median (" + str(round(s_median, 1)) + "%)")
plt.axvline(s_mean, color='purple', linewidth=1, label="mean (" + str(round(s_mean, 1)) + "%)")
plt.legend(loc="center right", fontsize=8)





# Create a Histogram for Bond Returns
splot = sns.histplot(data=nominal_df, x="nom_bond_perc", bins=60)
splot.set(xlabel = "Annual Return (%)", title = "Nominal Bond Returns", ylabel = "Frequency/Count") 

b_median = nominal_df['nom_bond_perc'].median() 
b_mean= nominal_df['nom_bond_perc'].mean() 

# Plot Mean/Median
plt.axvline(b_median, color='orange', linestyle='dashed', linewidth=1, label="median (" + str(round(b_median, 1)) + "%)")
plt.axvline(b_mean, color='purple', linewidth=1, label="mean (" + str(round(b_mean, 1)) + "%)")
plt.legend(loc="center right", fontsize=8)


### Multi-Distribution KDE Plots for Stock, Bonds, and Inflation



# style
sns.set(style="white")

# Create multiple KDE plots
features = ['nom_stock_perc', 'nom_bond_perc', 'inflation_perc']
asset_type = ["Stocks", "Bonds", "Inflation"]
colors = ['orange', 'b', 'y']

for feature, color, asset_type in zip(features, colors, asset_type):
    sns.kdeplot(nominal_df[feature], shade=True, color=color, label=asset_type)

# Add title, axis labels, and legend
plt.title('Multi-Distribution Plots for Stock, Bond, and Inflation Returns')
plt.xlabel('Annual Percent')
plt.ylabel('Density')
plt.legend()

# Show the plot
plt.show()








# Stocks - Average return is 9%, so consider any return in the range of 6-12% as 'average'
avg_count = 0

for i in range(len(nominal_df['nom_stock_perc'])):
    if 6 <= nominal_df['nom_stock_perc'][i] <= 12:
        avg_count += 1


avg_years_percent = (avg_count/len(nominal_df['nom_stock_perc']))*100

print("Percent of Years with 'average returns': " + str(round(avg_years_percent)) + "%")
print("Historical Chance of Non_Average Returns: " + str(round(100 - avg_years_percent)) + "%")





# Calculate how many years were either less than 0% or greater than 20%
count_0_20 = 0

for i in range(len(nominal_df['nom_stock_perc'])):
    if 20 >= nominal_df['nom_stock_perc'][i] or nominal_df['nom_stock_perc'][i] <= 0:
        count_0_20 += 1


years_percent_0_20 = (count_0_20/len(nominal_df['nom_stock_perc']))*100

print("Number of years with returns between 0% and 20%: " + str(round(years_percent_0_20)) + "%")
print("Percent of Years with returns between 0% and 20%: " + str(round(years_percent_0_20)) + "%")
print("Historical Chance of returns outside 0-20%: " + str(round(100 - years_percent_0_20)) + "%")





# Filter DataFrame for Rows corresponding to years 1942 to Present day 
nom_df_1942_ = nominal_df[nominal_df['year_to_jan'] >= 1942]
nom_df_1942_.head()





# Histogram for Inflation
iplot = sns.histplot(data=nom_df_1942_, x="inflation_perc", bins=60)
iplot.set(xlabel = "Inflation (%)", title = "Annual Inflation (1942 - Present)", ylabel = "Frequency/Count") 

i_median = nom_df_1942_['inflation_perc'].median() 
i_mean = nom_df_1942_['inflation_perc'].mean() 

# Plot Median
plt.axvline(i_median, color='orange', linestyle='dashed', linewidth=1, label="median (" + str(round(i_median, 1)) + "%)")
plt.axvline(i_mean, color='purple', linewidth=1, label="mean (" + str(round(i_mean, 1)) + "%)")
plt.legend(loc="upper right", fontsize=8)





# Create a Histogram for Stocks Returns
splot = sns.histplot(data=nom_df_1942_, x="nom_stock_perc", bins=60)
splot.set(xlabel = "Annual Return (%)", title = "Nominal Stock Returns (1942 - Present)", ylabel = "Frequency/Count") 

s_median = nom_df_1942_['nom_stock_perc'].median() 
s_mean= nom_df_1942_['nom_stock_perc'].mean() 

# Plot Mean/Median
plt.axvline(s_median, color='orange', linestyle='dashed', linewidth=1, label="median (" + str(round(s_median, 1)) + "%)")
plt.axvline(s_mean, color='purple', linewidth=1, label="mean (" + str(round(s_mean, 1)) + "%)")
plt.legend(loc="center right", fontsize=8)


splot = sns.kdeplot(data=nom_df_1942_, x="nom_stock_perc")
splot.set(xlabel = "Annual Return (%)", title = "Nominal Stock Returns (1942 - Present)", ylabel = "Frequency/Count") 





# Create a Histogram for Bond Returns
splot = sns.histplot(data=nom_df_1942_, x="nom_bond_perc", bins=60)
splot.set(xlabel = "Annual Return (%)", title = "Nominal Bond Returns (1942 - Present)", ylabel = "Frequency/Count") 

b_median = nom_df_1942_['nom_bond_perc'].median() 
b_mean= nom_df_1942_['nom_bond_perc'].mean() 

# Plot Mean/Median
plt.axvline(b_median, color='orange', linestyle='dashed', linewidth=1, label="median (" + str(round(b_median, 1)) + "%)")
plt.axvline(b_mean, color='purple', linewidth=1, label="mean (" + str(round(b_mean, 1)) + "%)")
plt.legend(loc="center right", fontsize=8)








# Stocks - Average return is 12.4%, so consider any return in the range of 9-15% as 'average'
avg_count = 0
nom_df_1942_.reset_index(inplace=True)

for i in range(len(nom_df_1942_['nom_stock_perc'])):
    if 9 <= nom_df_1942_['nom_stock_perc'][i] <= 15:
        avg_count += 1


avg_years_percent = (avg_count/len(nom_df_1942_['nom_stock_perc']))*100

print("# of 'average' years: " + str(avg_count))
print("Percent of Years with 'average returns': " + str(round(avg_years_percent)) + "%")
print("Historical Chance of Non_Average Returns: " + str(round(100 - avg_years_percent)) + "%")





# Calculate how many years were either less than 0% or greater than 20%
count_0_20 = 0

for i in range(len(nom_df_1942_['nom_stock_perc'])):
    if 20 >= nom_df_1942_['nom_stock_perc'][i] or nom_df_1942_['nom_stock_perc'][i] <= 0:
        count_0_20 += 1


years_percent_0_20 = (count_0_20/len(nom_df_1942_['nom_stock_perc']))*100

print("Number of years with returns between 0% and 20%: " + str(round(years_percent_0_20)) + "%")
print("Percent of Years with returns between 0% and 20%: " + str(round(years_percent_0_20)) + "%")
print("Historical Chance of returns outside 0-20%: " + str(round(100 - years_percent_0_20)) + "%")
